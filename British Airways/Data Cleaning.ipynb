{
 "cells": [
  {
   "cell_type": "code",
   "execution_count": 1,
   "metadata": {},
   "outputs": [],
   "source": [
    "import pandas as pd"
   ]
  },
  {
   "cell_type": "code",
   "execution_count": 2,
   "metadata": {},
   "outputs": [],
   "source": [
    "pd.set_option('max_colwidth', None)"
   ]
  },
  {
   "cell_type": "code",
   "execution_count": 3,
   "metadata": {},
   "outputs": [
    {
     "data": {
      "text/html": [
       "<div>\n",
       "<style scoped>\n",
       "    .dataframe tbody tr th:only-of-type {\n",
       "        vertical-align: middle;\n",
       "    }\n",
       "\n",
       "    .dataframe tbody tr th {\n",
       "        vertical-align: top;\n",
       "    }\n",
       "\n",
       "    .dataframe thead th {\n",
       "        text-align: right;\n",
       "    }\n",
       "</style>\n",
       "<table border=\"1\" class=\"dataframe\">\n",
       "  <thead>\n",
       "    <tr style=\"text-align: right;\">\n",
       "      <th></th>\n",
       "      <th>reviews</th>\n",
       "      <th>rating</th>\n",
       "    </tr>\n",
       "  </thead>\n",
       "  <tbody>\n",
       "    <tr>\n",
       "      <th>0</th>\n",
       "      <td>✅ Trip Verified | The entire booking and ticketing experience has been stressful and erroneous. I booked directly with BA as I thought - why go to any other airline when their home headquarters is UK and I need to go to the UK. Mistake. This was months ago. I could not cancel or change my flight without paying them $750 to cancel my flight and have that money sitting for just 1 year on account, otherwise all was lost minus a few hundred in taxes. As whom I am really flying with is American Airlines and another partner I can't check in without being redirected. Then those sites don't recognize me. I don't appear in AA or Aer Lingus applications. I couldn't ask for more time to change planes in London despite all reviews saying how long and hard it is, as that would mean a cancel of plane ticket - loss of all money. I've been on the phone with agents for over an hour on 3 different calls. Their app will not let me in without each time a reset of passcode, a 30 minute wait for the email and then I get the same error.</td>\n",
       "      <td>1</td>\n",
       "    </tr>\n",
       "    <tr>\n",
       "      <th>1</th>\n",
       "      <td>Not Verified |   British Airways cancelled my flight less than 24 hours before. Automatically rebooked it for 2 days later. I called customer service 3 times trying to change it and they would Not help. My daughter was flying on a different reservation and because I am legally blind I needed to be on the same flight - they didn’t care nor would they help. We eventually bought new tickets on easyJet. When we arrive home I entered a complaint to get my fare refunded. It took them 4 months and then the response was it was cancelled because of a strike in Spain so they won’t refund it. EasyJet didn’t cancel. The whole experience was awful and so disappointing.</td>\n",
       "      <td>1</td>\n",
       "    </tr>\n",
       "    <tr>\n",
       "      <th>2</th>\n",
       "      <td>Not Verified | I wanted to write this review so I could give a huge thank you to one of the staff on Lisbon named Jay Ramphul. She went above and beyond and really helped me in an urgent situation. I had boarded my flight with 20 minutes before take off when I realized I had left my cell phone in the club lounge. I was not going to get permission to deboard and get back on in time for take off. Jay stepped in and made it happened. She literally ran with me a far distance to retrieve my phone with me and get me back on the plane within minutes of take off. This is true service! I don't know if this review will ever get back to her or her management, but I hope it does. I want to again express my gratitude for her help and kindness in this matter.</td>\n",
       "      <td>10</td>\n",
       "    </tr>\n",
       "    <tr>\n",
       "      <th>3</th>\n",
       "      <td>✅ Trip Verified |  Check in fast and friendly. Security a breeze. Lounge was busy early evening but comfortable and clean. Flight attendants welcoming. Seat a nightmare it was the reverse/forward with a step over from the window seat, who the hell thought that was a good idea?? Meal were OK but all curry based, like curry and I was on a flight to India so. FA was brilliant as the only flyer awake on an overnight flight. Improving since my last BA flight</td>\n",
       "      <td>7</td>\n",
       "    </tr>\n",
       "    <tr>\n",
       "      <th>4</th>\n",
       "      <td>✅ Trip Verified |  This is the first time I have seen the new Club World suite. The seat was comfortable but unlike other airlines, BA has crammed as many seats in business class as is humanly possible so the cabin felt cramped. The crew behaved as though we, the passengers, should have been grateful for them turning up for their shift. They looked scruffy in the new uniforms, clearly the dress code policy has been scrapped. I appreciate that appearance is no measure of service quality (in the UK alone) but the service was appalling. The menu lacked choice and the food was presented as if it fell to the floor and was scooped back onto the plate. The bedding was atrocious, an old scraggly blanket and I’ll fitting seat cover. I was cold and asked for an extra blanket which never arrived. There were no drinks coasters (obviously cutbacks) so my drinks kept spilling. I decided to clean up myself as the crew couldn’t be bothered and didn’t pick up on the fact I was using bathroom hand towels to act as drinks coasters to mop up the mess. The aircraft was old (although retrofitted) and had a leak by the galley wall with lots of blue roll in situ to mop up the mess. Not at all a premium service, this felt more like a low cost carrier doing “business”.</td>\n",
       "      <td>3</td>\n",
       "    </tr>\n",
       "  </tbody>\n",
       "</table>\n",
       "</div>"
      ],
      "text/plain": [
       "                                                                                                                                                                                                                                                                                                                                                                                                                                                                                                                                                                                                                                                                                                                                                                                                                                                                                                                                                                                                                                                                                                                                                                                                                                                                                                           reviews  \\\n",
       "0                                                                                                                                                                                                                                            ✅ Trip Verified | The entire booking and ticketing experience has been stressful and erroneous. I booked directly with BA as I thought - why go to any other airline when their home headquarters is UK and I need to go to the UK. Mistake. This was months ago. I could not cancel or change my flight without paying them $750 to cancel my flight and have that money sitting for just 1 year on account, otherwise all was lost minus a few hundred in taxes. As whom I am really flying with is American Airlines and another partner I can't check in without being redirected. Then those sites don't recognize me. I don't appear in AA or Aer Lingus applications. I couldn't ask for more time to change planes in London despite all reviews saying how long and hard it is, as that would mean a cancel of plane ticket - loss of all money. I've been on the phone with agents for over an hour on 3 different calls. Their app will not let me in without each time a reset of passcode, a 30 minute wait for the email and then I get the same error.   \n",
       "1                                                                                                                                                                                                                                                                                                                                                                                                                                                                                                                                                                                                                         Not Verified |   British Airways cancelled my flight less than 24 hours before. Automatically rebooked it for 2 days later. I called customer service 3 times trying to change it and they would Not help. My daughter was flying on a different reservation and because I am legally blind I needed to be on the same flight - they didn’t care nor would they help. We eventually bought new tickets on easyJet. When we arrive home I entered a complaint to get my fare refunded. It took them 4 months and then the response was it was cancelled because of a strike in Spain so they won’t refund it. EasyJet didn’t cancel. The whole experience was awful and so disappointing.   \n",
       "2                                                                                                                                                                                                                                                                                                                                                                                                                                                                                                                              Not Verified | I wanted to write this review so I could give a huge thank you to one of the staff on Lisbon named Jay Ramphul. She went above and beyond and really helped me in an urgent situation. I had boarded my flight with 20 minutes before take off when I realized I had left my cell phone in the club lounge. I was not going to get permission to deboard and get back on in time for take off. Jay stepped in and made it happened. She literally ran with me a far distance to retrieve my phone with me and get me back on the plane within minutes of take off. This is true service! I don't know if this review will ever get back to her or her management, but I hope it does. I want to again express my gratitude for her help and kindness in this matter.   \n",
       "3                                                                                                                                                                                                                                                                                                                                                                                                                                                                                                                                                                                                                                                                                                                                                                                                                                        ✅ Trip Verified |  Check in fast and friendly. Security a breeze. Lounge was busy early evening but comfortable and clean. Flight attendants welcoming. Seat a nightmare it was the reverse/forward with a step over from the window seat, who the hell thought that was a good idea?? Meal were OK but all curry based, like curry and I was on a flight to India so. FA was brilliant as the only flyer awake on an overnight flight. Improving since my last BA flight   \n",
       "4  ✅ Trip Verified |  This is the first time I have seen the new Club World suite. The seat was comfortable but unlike other airlines, BA has crammed as many seats in business class as is humanly possible so the cabin felt cramped. The crew behaved as though we, the passengers, should have been grateful for them turning up for their shift. They looked scruffy in the new uniforms, clearly the dress code policy has been scrapped. I appreciate that appearance is no measure of service quality (in the UK alone) but the service was appalling. The menu lacked choice and the food was presented as if it fell to the floor and was scooped back onto the plate. The bedding was atrocious, an old scraggly blanket and I’ll fitting seat cover. I was cold and asked for an extra blanket which never arrived. There were no drinks coasters (obviously cutbacks) so my drinks kept spilling. I decided to clean up myself as the crew couldn’t be bothered and didn’t pick up on the fact I was using bathroom hand towels to act as drinks coasters to mop up the mess. The aircraft was old (although retrofitted) and had a leak by the galley wall with lots of blue roll in situ to mop up the mess. Not at all a premium service, this felt more like a low cost carrier doing “business”.   \n",
       "\n",
       "   rating  \n",
       "0       1  \n",
       "1       1  \n",
       "2      10  \n",
       "3       7  \n",
       "4       3  "
      ]
     },
     "execution_count": 3,
     "metadata": {},
     "output_type": "execute_result"
    }
   ],
   "source": [
    "df = pd.read_csv('BA_reviews.csv', index_col=0)\n",
    "df.head()"
   ]
  },
  {
   "cell_type": "markdown",
   "metadata": {},
   "source": [
    "### Preprocessing"
   ]
  },
  {
   "cell_type": "code",
   "execution_count": 4,
   "metadata": {},
   "outputs": [],
   "source": [
    "import nltk\n",
    "import re\n",
    "from nltk.corpus import stopwords\n",
    "from nltk.corpus import wordnet\n",
    "from nltk.tokenize import word_tokenize\n",
    "from nltk.stem import WordNetLemmatizer"
   ]
  },
  {
   "cell_type": "code",
   "execution_count": 5,
   "metadata": {},
   "outputs": [],
   "source": [
    "### Create a clean text function\n",
    "def clean_text(text):\n",
    "    text = text.lower()\n",
    "    text = re.sub(r'[^\\w\\s]', '', text)\n",
    "\n",
    "    tokens = word_tokenize(text)\n",
    "\n",
    "    return tokens"
   ]
  },
  {
   "cell_type": "code",
   "execution_count": 6,
   "metadata": {},
   "outputs": [],
   "source": [
    "def stopword_removal(tokens):\n",
    "    stop_words = set(stopwords.words('english'))\n",
    "    tokens = [token for token in tokens if token not in stop_words]\n",
    "\n",
    "    return tokens"
   ]
  },
  {
   "cell_type": "code",
   "execution_count": 7,
   "metadata": {},
   "outputs": [],
   "source": [
    "def lemma(tokens):\n",
    "    lemmatizer = WordNetLemmatizer()\n",
    "    tokens = [lemmatizer.lemmatize(token) for token in tokens]\n",
    "\n",
    "    return tokens"
   ]
  },
  {
   "cell_type": "code",
   "execution_count": 8,
   "metadata": {},
   "outputs": [],
   "source": [
    "import nltk\n",
    "from nltk.stem import WordNetLemmatizer\n",
    "\n",
    "lemmatizer = WordNetLemmatizer()\n",
    "# Custom lemmatization function using WordNet\n",
    "def custom_lemma(tokens):\n",
    "    lemmatized_tokens = []\n",
    "    pos_mapping = {\n",
    "        'N': wordnet.NOUN,  # Noun\n",
    "        'V': wordnet.VERB,  # Verb\n",
    "        'R': wordnet.ADV,   # Adverb\n",
    "        'J': wordnet.ADJ    # Adjective\n",
    "    }\n",
    "    # Use WordNet to look up lemmas based on part-of-speech (POS) tags\n",
    "    for token in tokens:\n",
    "        pos = nltk.pos_tag([token])[0][1][0].upper()  # Get the POS tag of the token\n",
    "        if pos in pos_mapping:\n",
    "            lemmatized_tokens.append(lemmatizer.lemmatize(token, pos_mapping[pos]))\n",
    "        else:\n",
    "            lemmatized_tokens.append(token)\n",
    "    return lemmatized_tokens"
   ]
  },
  {
   "cell_type": "code",
   "execution_count": 9,
   "metadata": {},
   "outputs": [],
   "source": [
    "def preprocessed(text):\n",
    "    tokens = clean_text(text)\n",
    "    filtered_tokens = stopword_removal(tokens)\n",
    "    lemmatized_tokens = custom_lemma(filtered_tokens)\n",
    "    preprocessed_text = ' '.join(lemmatized_tokens)\n",
    "\n",
    "    return preprocessed_text"
   ]
  },
  {
   "cell_type": "code",
   "execution_count": 10,
   "metadata": {},
   "outputs": [
    {
     "data": {
      "text/html": [
       "<div>\n",
       "<style scoped>\n",
       "    .dataframe tbody tr th:only-of-type {\n",
       "        vertical-align: middle;\n",
       "    }\n",
       "\n",
       "    .dataframe tbody tr th {\n",
       "        vertical-align: top;\n",
       "    }\n",
       "\n",
       "    .dataframe thead th {\n",
       "        text-align: right;\n",
       "    }\n",
       "</style>\n",
       "<table border=\"1\" class=\"dataframe\">\n",
       "  <thead>\n",
       "    <tr style=\"text-align: right;\">\n",
       "      <th></th>\n",
       "      <th>reviews</th>\n",
       "      <th>rating</th>\n",
       "      <th>clean_reviews</th>\n",
       "    </tr>\n",
       "  </thead>\n",
       "  <tbody>\n",
       "    <tr>\n",
       "      <th>0</th>\n",
       "      <td>✅ Trip Verified | The entire booking and ticketing experience has been stressful and erroneous. I booked directly with BA as I thought - why go to any other airline when their home headquarters is UK and I need to go to the UK. Mistake. This was months ago. I could not cancel or change my flight without paying them $750 to cancel my flight and have that money sitting for just 1 year on account, otherwise all was lost minus a few hundred in taxes. As whom I am really flying with is American Airlines and another partner I can't check in without being redirected. Then those sites don't recognize me. I don't appear in AA or Aer Lingus applications. I couldn't ask for more time to change planes in London despite all reviews saying how long and hard it is, as that would mean a cancel of plane ticket - loss of all money. I've been on the phone with agents for over an hour on 3 different calls. Their app will not let me in without each time a reset of passcode, a 30 minute wait for the email and then I get the same error.</td>\n",
       "      <td>1</td>\n",
       "      <td>trip verify entire book ticket experience stressful erroneous book directly ba thought go airline home headquarters uk need go uk mistake month ago could cancel change flight without pay 750 cancel flight money sit 1 year account otherwise lose minus hundred tax really fly american airline another partner cant check without redirect site dont recognize dont appear aa aer lingus application couldnt ask time change plane london despite review say long hard would mean cancel plane ticket loss money ive phone agent hour 3 different call app let without time reset passcode 30 minute wait email get error</td>\n",
       "    </tr>\n",
       "    <tr>\n",
       "      <th>1</th>\n",
       "      <td>Not Verified |   British Airways cancelled my flight less than 24 hours before. Automatically rebooked it for 2 days later. I called customer service 3 times trying to change it and they would Not help. My daughter was flying on a different reservation and because I am legally blind I needed to be on the same flight - they didn’t care nor would they help. We eventually bought new tickets on easyJet. When we arrive home I entered a complaint to get my fare refunded. It took them 4 months and then the response was it was cancelled because of a strike in Spain so they won’t refund it. EasyJet didn’t cancel. The whole experience was awful and so disappointing.</td>\n",
       "      <td>1</td>\n",
       "      <td>verify british airway cancel flight less 24 hour automatically rebooked 2 day later call customer service 3 time try change would help daughter fly different reservation legally blind need flight didnt care would help eventually bought new ticket easyjet arrive home enter complaint get fare refund take 4 month response cancel strike spain wont refund easyjet didnt cancel whole experience awful disappoint</td>\n",
       "    </tr>\n",
       "  </tbody>\n",
       "</table>\n",
       "</div>"
      ],
      "text/plain": [
       "                                                                                                                                                                                                                                                                                                                                                                                                                                                                                                                                                                                                                                                                                                                                                                                                                                                                                                                                                                                                                                                                 reviews  \\\n",
       "0  ✅ Trip Verified | The entire booking and ticketing experience has been stressful and erroneous. I booked directly with BA as I thought - why go to any other airline when their home headquarters is UK and I need to go to the UK. Mistake. This was months ago. I could not cancel or change my flight without paying them $750 to cancel my flight and have that money sitting for just 1 year on account, otherwise all was lost minus a few hundred in taxes. As whom I am really flying with is American Airlines and another partner I can't check in without being redirected. Then those sites don't recognize me. I don't appear in AA or Aer Lingus applications. I couldn't ask for more time to change planes in London despite all reviews saying how long and hard it is, as that would mean a cancel of plane ticket - loss of all money. I've been on the phone with agents for over an hour on 3 different calls. Their app will not let me in without each time a reset of passcode, a 30 minute wait for the email and then I get the same error.   \n",
       "1                                                                                                                                                                                                                                                                                                                                                                               Not Verified |   British Airways cancelled my flight less than 24 hours before. Automatically rebooked it for 2 days later. I called customer service 3 times trying to change it and they would Not help. My daughter was flying on a different reservation and because I am legally blind I needed to be on the same flight - they didn’t care nor would they help. We eventually bought new tickets on easyJet. When we arrive home I entered a complaint to get my fare refunded. It took them 4 months and then the response was it was cancelled because of a strike in Spain so they won’t refund it. EasyJet didn’t cancel. The whole experience was awful and so disappointing.   \n",
       "\n",
       "   rating  \\\n",
       "0       1   \n",
       "1       1   \n",
       "\n",
       "                                                                                                                                                                                                                                                                                                                                                                                                                                                                                                                                                                                                                   clean_reviews  \n",
       "0  trip verify entire book ticket experience stressful erroneous book directly ba thought go airline home headquarters uk need go uk mistake month ago could cancel change flight without pay 750 cancel flight money sit 1 year account otherwise lose minus hundred tax really fly american airline another partner cant check without redirect site dont recognize dont appear aa aer lingus application couldnt ask time change plane london despite review say long hard would mean cancel plane ticket loss money ive phone agent hour 3 different call app let without time reset passcode 30 minute wait email get error  \n",
       "1                                                                                                                                                                                                        verify british airway cancel flight less 24 hour automatically rebooked 2 day later call customer service 3 time try change would help daughter fly different reservation legally blind need flight didnt care would help eventually bought new ticket easyjet arrive home enter complaint get fare refund take 4 month response cancel strike spain wont refund easyjet didnt cancel whole experience awful disappoint  "
      ]
     },
     "execution_count": 10,
     "metadata": {},
     "output_type": "execute_result"
    }
   ],
   "source": [
    "df['clean_reviews'] = df['reviews'].apply(preprocessed)\n",
    "df.head(2)"
   ]
  },
  {
   "cell_type": "code",
   "execution_count": 11,
   "metadata": {},
   "outputs": [],
   "source": [
    "# Remove \"trip verify\" or \"verify\" from the beginning of the sentences\n",
    "df['clean_reviews'] = df['clean_reviews'].str.replace(r'^trip verify\\s*', '', regex=True)\n",
    "df['clean_reviews'] = df['clean_reviews'].str.replace(r'^verify\\s*', '', regex=True)"
   ]
  },
  {
   "cell_type": "code",
   "execution_count": 12,
   "metadata": {},
   "outputs": [],
   "source": [
    "df.to_csv('Clean_BA_reviews_v2.csv', index=False)"
   ]
  }
 ],
 "metadata": {
  "kernelspec": {
   "display_name": "gpu_py38",
   "language": "python",
   "name": "python3"
  },
  "language_info": {
   "codemirror_mode": {
    "name": "ipython",
    "version": 3
   },
   "file_extension": ".py",
   "mimetype": "text/x-python",
   "name": "python",
   "nbconvert_exporter": "python",
   "pygments_lexer": "ipython3",
   "version": "3.8.18"
  }
 },
 "nbformat": 4,
 "nbformat_minor": 2
}
