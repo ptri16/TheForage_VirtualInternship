{
 "cells": [
  {
   "cell_type": "code",
   "execution_count": 1,
   "metadata": {},
   "outputs": [],
   "source": [
    "import pandas as pd"
   ]
  },
  {
   "cell_type": "code",
   "execution_count": 5,
   "metadata": {},
   "outputs": [],
   "source": [
    "pd.set_option('max_colwidth', None)"
   ]
  },
  {
   "cell_type": "code",
   "execution_count": 6,
   "metadata": {},
   "outputs": [
    {
     "data": {
      "text/html": [
       "<div>\n",
       "<style scoped>\n",
       "    .dataframe tbody tr th:only-of-type {\n",
       "        vertical-align: middle;\n",
       "    }\n",
       "\n",
       "    .dataframe tbody tr th {\n",
       "        vertical-align: top;\n",
       "    }\n",
       "\n",
       "    .dataframe thead th {\n",
       "        text-align: right;\n",
       "    }\n",
       "</style>\n",
       "<table border=\"1\" class=\"dataframe\">\n",
       "  <thead>\n",
       "    <tr style=\"text-align: right;\">\n",
       "      <th></th>\n",
       "      <th>reviews</th>\n",
       "    </tr>\n",
       "  </thead>\n",
       "  <tbody>\n",
       "    <tr>\n",
       "      <th>0</th>\n",
       "      <td>✅ Trip Verified |  Check in fast and friendly. Security a breeze. Lounge was busy early evening but comfortable and clean. Flight attendants welcoming. Seat a nightmare it was the reverse/forward with a step over from the window seat, who the hell thought that was a good idea?? Meal were OK but all curry based, like curry and I was on a flight to India so. FA was brilliant as the only flyer awake on an overnight flight. Improving since my last BA flight</td>\n",
       "    </tr>\n",
       "    <tr>\n",
       "      <th>1</th>\n",
       "      <td>✅ Trip Verified |  This is the first time I have seen the new Club World suite. The seat was comfortable but unlike other airlines, BA has crammed as many seats in business class as is humanly possible so the cabin felt cramped. The crew behaved as though we, the passengers, should have been grateful for them turning up for their shift. They looked scruffy in the new uniforms, clearly the dress code policy has been scrapped. I appreciate that appearance is no measure of service quality (in the UK alone) but the service was appalling. The menu lacked choice and the food was presented as if it fell to the floor and was scooped back onto the plate. The bedding was atrocious, an old scraggly blanket and I’ll fitting seat cover. I was cold and asked for an extra blanket which never arrived. There were no drinks coasters (obviously cutbacks) so my drinks kept spilling. I decided to clean up myself as the crew couldn’t be bothered and didn’t pick up on the fact I was using bathroom hand towels to act as drinks coasters to mop up the mess. The aircraft was old (although retrofitted) and had a leak by the galley wall with lots of blue roll in situ to mop up the mess. Not at all a premium service, this felt more like a low cost carrier doing “business”.</td>\n",
       "    </tr>\n",
       "    <tr>\n",
       "      <th>2</th>\n",
       "      <td>✅ Trip Verified |  Flew business class from Doha to London on 31st March. The service was slow and unfriendly, even one of the male cabin crew working in business class asked the female cabin crew who was looking after the area where I was in to smile. I ordered waffles for breakfast and they looked like they’d fallen off the plate and had been thrown back on (see photo). The plate that the waffles were served on was so hot that when I moved the plate I burnt my finger. I wasn’t warned that it was ferociously hot. I was shocked at how bad the food presentation was, but didn’t feel comfortable saying anything to the cabin crew as she wasn’t approachable or friendly. For lunch, the bread roll was so dry and rock hard that I couldn’t cut through the ends. Not sure why the food and service was so bad on this flight as generally BA food is good and is well presented. Also, the Wi-Fi wasn’t working on the flight.</td>\n",
       "    </tr>\n",
       "    <tr>\n",
       "      <th>3</th>\n",
       "      <td>✅ Trip Verified |  Starting off at Heathrow Terminal 3. Check in was fairly easy, but fast track security was terrible. The area is currently under refurbishment but there are only two scanning machines in the fast track area and at this time only one was in use so the queue was long and very slow moving. I’ve heard mixed things about the BA club lounge, but I was fairly impressed. Food options were fairly varied and tasted really nice. Nice salads as well as pie and veg. Drinks as always in BA lounges are very easy to lay your hands on and cater for most wants. Lounge was a decent size with various seating options and wasn’t very busy at the time I went (Sunday evening). Boarding was well organised and club passengers / higher tiers was boarded quickly and easily. Amenity kit, bottle of water and bedding were waiting at the seat. Welcome drinks were provided fairly quickly after sitting down. Hot towel provided after take off, shortly followed by drink and nuts. As has been regularly said these nuts would be infinitely better if served properly not in a very small packet. Food service on board consisted of a main dinner service which was served 1-2 hrs after take off, then a breakfast meal before landing. Both meals were genuinely delicious. All meats were tender and juicy and very was perfectly cooked. Drinks were provided whenever asked, although crew were too busy serving all passengers to proactively offer top ups. Breakfast was offered to passengers as they woke up, which meant that people ate when they wanted rather than just in order.. almost but not quite like a la carte dining. Crew were friendly and efficient, with some nice personality coming through. This is fairly standard of my experience with BA. In flight entertainment was excellent. Good screen quality. Responsive touch screen. Excellent selection. I did not use the WiFi however it was available on this aircraft and prices are reasonable I think. The seat is generally very comfortable and the storage compartments are convenient and spacious enough. The crew on my aisle side of the plane forgot to unlock all the doors so people had to work out how to do it themselves or periodically request the crew to do it for them. Whilst you can never complain about a fully flat bed, the reverse herringbone layout does make the footwell a bit cramped and also means it’s a lot more comfortable to lie on one side rather than the other (facing away from the door). I did manage a few hours of sleep though so not too bad. Overall a really lovely flight and absolutely holding its own as a decent business class product/service.</td>\n",
       "    </tr>\n",
       "    <tr>\n",
       "      <th>4</th>\n",
       "      <td>Not Verified |  We have flown this route with EasyJet regularly for more than twenty years but at the age of 80, boarding at Nice has become so chaotic and wearing l decided to pay the significant extra amount to see if BA was better. The outward flight from Heathrow was not great but acceptable but when l attempted to checkin for the return l discovered that we did not have a booking. At the time l booked l was recovering from a serious illness and assumed that l must have made a mistake. After considerable panic, l booked last minute flights at considerable cost with EasyJet, boarding being the usual shambles. Flying into Gatwick rather than Heathrow the only way to get home was a £120 taxi rather than a £2 bus fare from Heathrow. On arrival home l discovered that I did have an email confirmation of the return flight from BA, so immediately contacted them to complain and ask for financial compensation. In the two weeks since they have sent two apologies for their slow response but nothing else so far. We have elderly friends who say that they now find travelling with British Airways so stressful that they will not travel outside the UK again. This will help the environment but it seems remarkable that the airline industry in the UK has deteriorated to this extent. Unfortunately JAL or Singapore, both of which l have used happily over many years, do not fly within Europe.</td>\n",
       "    </tr>\n",
       "  </tbody>\n",
       "</table>\n",
       "</div>"
      ],
      "text/plain": [
       "                                                                                                                                                                                                                                                                                                                                                                                                                                                                                                                                                                                                                                                                                                                                                                                                                                                                                                                                                                                                                                                                                                                                                                                                                                                                                                                                                                                                                                                                                                                                                                                                                                                                                                                                                                                                                                                                                                                                                                                                                                                                                                                                                                                                                                                                                                                                                                                                                                                                                                                                                                                                                                                                                                                         reviews\n",
       "0                                                                                                                                                                                                                                                                                                                                                                                                                                                                                                                                                                                                                                                                                                                                                                                                                                                                                                                                                                                                                                                                                                                                                                                                                                                                                                                                                                                                                                                                                                                                                                                                                                                                                                                                                                                                                                                                                                                                                                                                                                                                                                                                                                                                                                                      ✅ Trip Verified |  Check in fast and friendly. Security a breeze. Lounge was busy early evening but comfortable and clean. Flight attendants welcoming. Seat a nightmare it was the reverse/forward with a step over from the window seat, who the hell thought that was a good idea?? Meal were OK but all curry based, like curry and I was on a flight to India so. FA was brilliant as the only flyer awake on an overnight flight. Improving since my last BA flight\n",
       "1                                                                                                                                                                                                                                                                                                                                                                                                                                                                                                                                                                                                                                                                                                                                                                                                                                                                                                                                                                                                                                                                                                                                                                                                                                                                                                                                                                                                                ✅ Trip Verified |  This is the first time I have seen the new Club World suite. The seat was comfortable but unlike other airlines, BA has crammed as many seats in business class as is humanly possible so the cabin felt cramped. The crew behaved as though we, the passengers, should have been grateful for them turning up for their shift. They looked scruffy in the new uniforms, clearly the dress code policy has been scrapped. I appreciate that appearance is no measure of service quality (in the UK alone) but the service was appalling. The menu lacked choice and the food was presented as if it fell to the floor and was scooped back onto the plate. The bedding was atrocious, an old scraggly blanket and I’ll fitting seat cover. I was cold and asked for an extra blanket which never arrived. There were no drinks coasters (obviously cutbacks) so my drinks kept spilling. I decided to clean up myself as the crew couldn’t be bothered and didn’t pick up on the fact I was using bathroom hand towels to act as drinks coasters to mop up the mess. The aircraft was old (although retrofitted) and had a leak by the galley wall with lots of blue roll in situ to mop up the mess. Not at all a premium service, this felt more like a low cost carrier doing “business”.\n",
       "2                                                                                                                                                                                                                                                                                                                                                                                                                                                                                                                                                                                                                                                                                                                                                                                                                                                                                                                                                                                                                                                                                                                                                                                                                                                                                                                                                                                                                                                                                                                                                                                                                                                                                                                                                                       ✅ Trip Verified |  Flew business class from Doha to London on 31st March. The service was slow and unfriendly, even one of the male cabin crew working in business class asked the female cabin crew who was looking after the area where I was in to smile. I ordered waffles for breakfast and they looked like they’d fallen off the plate and had been thrown back on (see photo). The plate that the waffles were served on was so hot that when I moved the plate I burnt my finger. I wasn’t warned that it was ferociously hot. I was shocked at how bad the food presentation was, but didn’t feel comfortable saying anything to the cabin crew as she wasn’t approachable or friendly. For lunch, the bread roll was so dry and rock hard that I couldn’t cut through the ends. Not sure why the food and service was so bad on this flight as generally BA food is good and is well presented. Also, the Wi-Fi wasn’t working on the flight.\n",
       "3  ✅ Trip Verified |  Starting off at Heathrow Terminal 3. Check in was fairly easy, but fast track security was terrible. The area is currently under refurbishment but there are only two scanning machines in the fast track area and at this time only one was in use so the queue was long and very slow moving. I’ve heard mixed things about the BA club lounge, but I was fairly impressed. Food options were fairly varied and tasted really nice. Nice salads as well as pie and veg. Drinks as always in BA lounges are very easy to lay your hands on and cater for most wants. Lounge was a decent size with various seating options and wasn’t very busy at the time I went (Sunday evening). Boarding was well organised and club passengers / higher tiers was boarded quickly and easily. Amenity kit, bottle of water and bedding were waiting at the seat. Welcome drinks were provided fairly quickly after sitting down. Hot towel provided after take off, shortly followed by drink and nuts. As has been regularly said these nuts would be infinitely better if served properly not in a very small packet. Food service on board consisted of a main dinner service which was served 1-2 hrs after take off, then a breakfast meal before landing. Both meals were genuinely delicious. All meats were tender and juicy and very was perfectly cooked. Drinks were provided whenever asked, although crew were too busy serving all passengers to proactively offer top ups. Breakfast was offered to passengers as they woke up, which meant that people ate when they wanted rather than just in order.. almost but not quite like a la carte dining. Crew were friendly and efficient, with some nice personality coming through. This is fairly standard of my experience with BA. In flight entertainment was excellent. Good screen quality. Responsive touch screen. Excellent selection. I did not use the WiFi however it was available on this aircraft and prices are reasonable I think. The seat is generally very comfortable and the storage compartments are convenient and spacious enough. The crew on my aisle side of the plane forgot to unlock all the doors so people had to work out how to do it themselves or periodically request the crew to do it for them. Whilst you can never complain about a fully flat bed, the reverse herringbone layout does make the footwell a bit cramped and also means it’s a lot more comfortable to lie on one side rather than the other (facing away from the door). I did manage a few hours of sleep though so not too bad. Overall a really lovely flight and absolutely holding its own as a decent business class product/service.\n",
       "4                                                                                                                                                                                                                                                                                                                                                                                                                                                                                                                                                                                                                                                                                                                                                                                                                                                                                                                                                                                                                                                                                                                                                                                                                                                                            Not Verified |  We have flown this route with EasyJet regularly for more than twenty years but at the age of 80, boarding at Nice has become so chaotic and wearing l decided to pay the significant extra amount to see if BA was better. The outward flight from Heathrow was not great but acceptable but when l attempted to checkin for the return l discovered that we did not have a booking. At the time l booked l was recovering from a serious illness and assumed that l must have made a mistake. After considerable panic, l booked last minute flights at considerable cost with EasyJet, boarding being the usual shambles. Flying into Gatwick rather than Heathrow the only way to get home was a £120 taxi rather than a £2 bus fare from Heathrow. On arrival home l discovered that I did have an email confirmation of the return flight from BA, so immediately contacted them to complain and ask for financial compensation. In the two weeks since they have sent two apologies for their slow response but nothing else so far. We have elderly friends who say that they now find travelling with British Airways so stressful that they will not travel outside the UK again. This will help the environment but it seems remarkable that the airline industry in the UK has deteriorated to this extent. Unfortunately JAL or Singapore, both of which l have used happily over many years, do not fly within Europe."
      ]
     },
     "execution_count": 6,
     "metadata": {},
     "output_type": "execute_result"
    }
   ],
   "source": [
    "df = pd.read_csv('BA_reviews.csv', index_col=0)\n",
    "df.head()"
   ]
  },
  {
   "cell_type": "markdown",
   "metadata": {},
   "source": [
    "### Preprocessing"
   ]
  },
  {
   "cell_type": "code",
   "execution_count": 10,
   "metadata": {},
   "outputs": [],
   "source": [
    "import nltk\n",
    "import re\n",
    "from nltk.corpus import stopwords\n",
    "from nltk.tokenize import word_tokenize\n",
    "from nltk.stem import WordNetLemmatizer"
   ]
  },
  {
   "cell_type": "code",
   "execution_count": 8,
   "metadata": {},
   "outputs": [
    {
     "data": {
      "text/html": [
       "<div>\n",
       "<style scoped>\n",
       "    .dataframe tbody tr th:only-of-type {\n",
       "        vertical-align: middle;\n",
       "    }\n",
       "\n",
       "    .dataframe tbody tr th {\n",
       "        vertical-align: top;\n",
       "    }\n",
       "\n",
       "    .dataframe thead th {\n",
       "        text-align: right;\n",
       "    }\n",
       "</style>\n",
       "<table border=\"1\" class=\"dataframe\">\n",
       "  <thead>\n",
       "    <tr style=\"text-align: right;\">\n",
       "      <th></th>\n",
       "      <th>reviews</th>\n",
       "      <th>clean_reviews</th>\n",
       "    </tr>\n",
       "  </thead>\n",
       "  <tbody>\n",
       "    <tr>\n",
       "      <th>0</th>\n",
       "      <td>✅ Trip Verified |  Check in fast and friendly. Security a breeze. Lounge was busy early evening but comfortable and clean. Flight attendants welcoming. Seat a nightmare it was the reverse/forward with a step over from the window seat, who the hell thought that was a good idea?? Meal were OK but all curry based, like curry and I was on a flight to India so. FA was brilliant as the only flyer awake on an overnight flight. Improving since my last BA flight</td>\n",
       "      <td>✅ trip verified |  check in fast and friendly. security a breeze. lounge was busy early evening but comfortable and clean. flight attendants welcoming. seat a nightmare it was the reverse/forward with a step over from the window seat, who the hell thought that was a good idea?? meal were ok but all curry based, like curry and i was on a flight to india so. fa was brilliant as the only flyer awake on an overnight flight. improving since my last ba flight</td>\n",
       "    </tr>\n",
       "  </tbody>\n",
       "</table>\n",
       "</div>"
      ],
      "text/plain": [
       "                                                                                                                                                                                                                                                                                                                                                                                                                                                                     reviews  \\\n",
       "0  ✅ Trip Verified |  Check in fast and friendly. Security a breeze. Lounge was busy early evening but comfortable and clean. Flight attendants welcoming. Seat a nightmare it was the reverse/forward with a step over from the window seat, who the hell thought that was a good idea?? Meal were OK but all curry based, like curry and I was on a flight to India so. FA was brilliant as the only flyer awake on an overnight flight. Improving since my last BA flight   \n",
       "\n",
       "                                                                                                                                                                                                                                                                                                                                                                                                                                                               clean_reviews  \n",
       "0  ✅ trip verified |  check in fast and friendly. security a breeze. lounge was busy early evening but comfortable and clean. flight attendants welcoming. seat a nightmare it was the reverse/forward with a step over from the window seat, who the hell thought that was a good idea?? meal were ok but all curry based, like curry and i was on a flight to india so. fa was brilliant as the only flyer awake on an overnight flight. improving since my last ba flight  "
      ]
     },
     "execution_count": 8,
     "metadata": {},
     "output_type": "execute_result"
    }
   ],
   "source": [
    "## Case Folding\n",
    "df['clean_reviews'] = df['reviews'].str.lower()\n",
    "df.head(1)"
   ]
  },
  {
   "cell_type": "code",
   "execution_count": 12,
   "metadata": {},
   "outputs": [
    {
     "ename": "TypeError",
     "evalue": "expected string or bytes-like object",
     "output_type": "error",
     "traceback": [
      "\u001b[1;31m---------------------------------------------------------------------------\u001b[0m",
      "\u001b[1;31mTypeError\u001b[0m                                 Traceback (most recent call last)",
      "Cell \u001b[1;32mIn[12], line 2\u001b[0m\n\u001b[0;32m      1\u001b[0m \u001b[38;5;66;03m## Cleaning (punctuation removal)\u001b[39;00m\n\u001b[1;32m----> 2\u001b[0m df[\u001b[38;5;124m'\u001b[39m\u001b[38;5;124mclean_reviews\u001b[39m\u001b[38;5;124m'\u001b[39m] \u001b[38;5;241m=\u001b[39m \u001b[43mre\u001b[49m\u001b[38;5;241;43m.\u001b[39;49m\u001b[43msub\u001b[49m\u001b[43m(\u001b[49m\u001b[38;5;124;43mr\u001b[39;49m\u001b[38;5;124;43m'\u001b[39;49m\u001b[38;5;124;43m[^\u001b[39;49m\u001b[38;5;124;43m\\\u001b[39;49m\u001b[38;5;124;43mw\u001b[39;49m\u001b[38;5;124;43m\\\u001b[39;49m\u001b[38;5;124;43ms]\u001b[39;49m\u001b[38;5;124;43m'\u001b[39;49m\u001b[43m,\u001b[49m\u001b[43m \u001b[49m\u001b[38;5;124;43m'\u001b[39;49m\u001b[38;5;124;43m'\u001b[39;49m\u001b[43m,\u001b[49m\u001b[43m \u001b[49m\u001b[43mdf\u001b[49m\u001b[43m[\u001b[49m\u001b[38;5;124;43m'\u001b[39;49m\u001b[38;5;124;43mclean_reviews\u001b[39;49m\u001b[38;5;124;43m'\u001b[39;49m\u001b[43m]\u001b[49m\u001b[38;5;241;43m.\u001b[39;49m\u001b[43mstr\u001b[49m\u001b[43m)\u001b[49m\n\u001b[0;32m      3\u001b[0m df\u001b[38;5;241m.\u001b[39mhead(\u001b[38;5;241m1\u001b[39m)\n",
      "File \u001b[1;32mc:\\Users\\ptrir\\anaconda3\\envs\\gpu_py38\\lib\\re.py:210\u001b[0m, in \u001b[0;36msub\u001b[1;34m(pattern, repl, string, count, flags)\u001b[0m\n\u001b[0;32m    203\u001b[0m \u001b[38;5;28;01mdef\u001b[39;00m \u001b[38;5;21msub\u001b[39m(pattern, repl, string, count\u001b[38;5;241m=\u001b[39m\u001b[38;5;241m0\u001b[39m, flags\u001b[38;5;241m=\u001b[39m\u001b[38;5;241m0\u001b[39m):\n\u001b[0;32m    204\u001b[0m \u001b[38;5;250m    \u001b[39m\u001b[38;5;124;03m\"\"\"Return the string obtained by replacing the leftmost\u001b[39;00m\n\u001b[0;32m    205\u001b[0m \u001b[38;5;124;03m    non-overlapping occurrences of the pattern in string by the\u001b[39;00m\n\u001b[0;32m    206\u001b[0m \u001b[38;5;124;03m    replacement repl.  repl can be either a string or a callable;\u001b[39;00m\n\u001b[0;32m    207\u001b[0m \u001b[38;5;124;03m    if a string, backslash escapes in it are processed.  If it is\u001b[39;00m\n\u001b[0;32m    208\u001b[0m \u001b[38;5;124;03m    a callable, it's passed the Match object and must return\u001b[39;00m\n\u001b[0;32m    209\u001b[0m \u001b[38;5;124;03m    a replacement string to be used.\"\"\"\u001b[39;00m\n\u001b[1;32m--> 210\u001b[0m     \u001b[38;5;28;01mreturn\u001b[39;00m \u001b[43m_compile\u001b[49m\u001b[43m(\u001b[49m\u001b[43mpattern\u001b[49m\u001b[43m,\u001b[49m\u001b[43m \u001b[49m\u001b[43mflags\u001b[49m\u001b[43m)\u001b[49m\u001b[38;5;241;43m.\u001b[39;49m\u001b[43msub\u001b[49m\u001b[43m(\u001b[49m\u001b[43mrepl\u001b[49m\u001b[43m,\u001b[49m\u001b[43m \u001b[49m\u001b[43mstring\u001b[49m\u001b[43m,\u001b[49m\u001b[43m \u001b[49m\u001b[43mcount\u001b[49m\u001b[43m)\u001b[49m\n",
      "\u001b[1;31mTypeError\u001b[0m: expected string or bytes-like object"
     ]
    }
   ],
   "source": [
    "## Cleaning (punctuation removal)\n",
    "df['clean_reviews'] = re.sub(r'[^\\w\\s]', '', df['clean_reviews'].str)\n",
    "df.head(1)"
   ]
  }
 ],
 "metadata": {
  "kernelspec": {
   "display_name": "gpu_py38",
   "language": "python",
   "name": "python3"
  },
  "language_info": {
   "codemirror_mode": {
    "name": "ipython",
    "version": 3
   },
   "file_extension": ".py",
   "mimetype": "text/x-python",
   "name": "python",
   "nbconvert_exporter": "python",
   "pygments_lexer": "ipython3",
   "version": "3.8.18"
  }
 },
 "nbformat": 4,
 "nbformat_minor": 2
}
